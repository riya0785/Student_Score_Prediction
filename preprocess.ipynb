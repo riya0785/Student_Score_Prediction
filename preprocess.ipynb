
{
 "cells": [
  {
   "cell_type": "code",
   "source": [
    "import os\n",
    "import pandas as pd\n",
    "from sklearn.model_selection import train_test_split\n",
    "from sklearn.preprocessing import LabelEncoder\n",
    "\n",
    "# Load dataset\n",
    "df = pd.read_csv('student_performance_prediction.csv')\n",
    "\n",
    "# Drop missing values\n",
    "df.dropna(inplace=True)\n",
    "\n",
    "# Encode categorical columns\n",
    "label_encoder = LabelEncoder()\n",
    "df['Passed'] = label_encoder.fit_transform(df['Passed'])\n",
    "df['Participation in Extracurricular Activities'] = label_encoder.fit_transform(df['Participation in Extracurricular Activities'])\n",
    "df['Parent Education Level'] = label_encoder.fit_transform(df['Parent Education Level'])\n",
    "\n",
    "# Split features and target\n",
    "X = df.drop(['Passed', 'Student ID'], axis=1)\n",
    "y = df['Passed']\n",
    "\n",
    "# Train-test split\n",
    "X_train, X_test, y_train, y_test = train_test_split(X, y, test_size=0.2, random_state=42)\n",
    "\n",
    "# Save to CSV\n",
    "os.makedirs('data', exist_ok=True)\n",
    "X_train.to_csv('data/X_train.csv', index=False)\n",
    "X_test.to_csv('data/X_test.csv', index=False)\n",
    "y_train.to_csv('data/y_train.csv', index=False)\n",
    "y_test.to_csv('data/y_test.csv', index=False)\n",
    "print('Preprocessing complete.')"
   ],
   "metadata": {},
   "execution_count": null,
   "outputs": []
  }
 ],
 "metadata": {
  "kernelspec": {
   "display_name": "Python 3",
   "language": "python",
   "name": "python3"
  },
  "language_info": {
   "name": "python",
   "version": "3.x"
  }
 },
 "nbformat": 4,
 "nbformat_minor": 2
}
